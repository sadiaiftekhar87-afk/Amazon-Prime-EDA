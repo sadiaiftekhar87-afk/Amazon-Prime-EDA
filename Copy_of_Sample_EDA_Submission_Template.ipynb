{
  "nbformat": 4,
  "nbformat_minor": 0,
  "metadata": {
    "colab": {
      "private_outputs": true,
      "provenance": [],
      "collapsed_sections": [
        "x-EpHcCOp1ci",
        "X_VqEhTip1ck",
        "8zGJKyg5p1ck",
        "PVzmfK_Ep1ck",
        "n3dbpmDWp1ck",
        "ylSl6qgtp1ck",
        "ZWILFDl5p1ck",
        "M7G43BXep1ck",
        "Ag9LCva-p1cl",
        "E6MkPsBcp1cl",
        "2cELzS2fp1cl",
        "3MPXvC8up1cl",
        "NC_X3p0fY2L0",
        "UV0SzAkaZNRQ",
        "YPEH6qLeZNRQ",
        "q29F0dvdveiT",
        "EXh0U9oCveiU",
        "22aHeOlLveiV",
        "JcMwzZxoAimU",
        "8G2x9gOozGDZ",
        "gCX9965dhzqZ",
        "gIfDvo9L0UH2"
      ]
    },
    "kernelspec": {
      "name": "python3",
      "display_name": "Python 3"
    },
    "language_info": {
      "name": "python"
    }
  },
  "cells": [
    {
      "cell_type": "markdown",
      "source": [
        "# **Project Name**    - Amazon Prime TV Shows and Movies\n",
        "\n"
      ],
      "metadata": {
        "id": "vncDsAP0Gaoa"
      }
    },
    {
      "cell_type": "markdown",
      "source": [
        "##### **Project Type**    - EDA (Exploratory Data Analysis)\n",
        "##### **Contribution**    - Individual\n"
      ],
      "metadata": {
        "id": "beRrZCGUAJYm"
      }
    },
    {
      "cell_type": "markdown",
      "source": [
        "# **Project Summary -**"
      ],
      "metadata": {
        "id": "FJNUwmbgGyua"
      }
    },
    {
      "cell_type": "markdown",
      "source": [
        "Streaming platforms like Amazon Prime Video have transformed entertainment consumption, offering thousands of movies and TV shows across genres and countries. Understanding content trends and audience preferences is essential for data-driven decision-making. This project performs Exploratory Data Analysis (EDA) on Amazon Prime Video’s dataset to uncover insights about its content and contributors.\n",
        "\n",
        "The dataset includes two CSV files: titles.csv with over 9,000 titles and 15 attributes (title, type, genre, release year, IMDb and TMDB scores, runtime, production countries, and seasons for TV shows), and credits.csv with over 124,000 records of actors and directors, including their names, roles, and character names. Together, these datasets provide a detailed view of the platform’s content library.\n",
        "\n",
        "The project aims to answer key questions: Which type of content dominates? What are the most common genres and producing countries? How has content release evolved over time? Who are the most frequent actors and directors? How do IMDb ratings and popularity scores vary? Insights from this analysis help stakeholders make informed decisions on content strategy, marketing, and audience engagement.\n",
        "\n",
        "EDA begins with data exploration, checking column types, missing values, and distributions. Data cleaning handles missing values and ensures consistent formats. Hypotheses guide the analysis, such as movies being more frequent than TV shows, Drama and Comedy as dominant genres, and the US as the leading content producer.\n",
        "\n",
        "Visualizations include bar charts for content types and top genres, line charts for yearly trends, histograms for IMDb ratings, and plots for top countries and frequent actors/directors. Each plot is accompanied by remarks to interpret findings in a business context.\n",
        "\n",
        "Key insights show that movies outnumber TV shows, Drama, Comedy, and Action are the most common genres, and content production has increased significantly after 2015. IMDb ratings mostly range from 6 to 8, indicating general audience approval. The United States, India, and the UK are leading producers, while certain actors and directors frequently appear in popular titles, highlighting their influence.\n",
        "\n",
        "In conclusion, this EDA provides actionable insights for Amazon Prime stakeholders. The structured workflow—from exploration and cleaning to visualization and interpretation—demonstrates a practical approach for analyzing datasets, supporting informed business decisions and strategic content planning."
      ],
      "metadata": {
        "id": "F6v_1wHtG2nS"
      }
    },
    {
      "cell_type": "markdown",
      "source": [
        "# **GitHub Link -**"
      ],
      "metadata": {
        "id": "w6K7xa23Elo4"
      }
    },
    {
      "cell_type": "markdown",
      "source": [
        "Provide your GitHub Link here."
      ],
      "metadata": {
        "id": "h1o69JH3Eqqn"
      }
    },
    {
      "cell_type": "markdown",
      "source": [
        "# **Problem Statement**\n"
      ],
      "metadata": {
        "id": "yQaldy8SH6Dl"
      }
    },
    {
      "cell_type": "markdown",
      "source": [
        "Which genres dominate the platform?\n",
        "\n",
        "How is content distributed across regions and years?\n",
        "\n",
        "What are the trends in IMDb ratings and popularity?\n",
        "\n",
        "Who are the top actors/directors contributing to popular content?"
      ],
      "metadata": {
        "id": "DpeJGUA3kjGy"
      }
    },
    {
      "cell_type": "markdown",
      "source": [
        "#### **Define Your Business Objective?**"
      ],
      "metadata": {
        "id": "PH-0ReGfmX4f"
      }
    },
    {
      "cell_type": "markdown",
      "source": [
        "The objective of this project is to analyze Amazon Prime Video’s content library to uncover trends, audience preferences, and content performance. It aims to identify popular content types, genres, producing countries, and key contributors to support data-driven decisions. The insights will help content creators, marketers, and platform managers optimize content strategy and improve audience engagement."
      ],
      "metadata": {
        "id": "PhDvGCAqmjP1"
      }
    },
    {
      "cell_type": "markdown",
      "source": [
        "# **General Guidelines** : -  "
      ],
      "metadata": {
        "id": "mDgbUHAGgjLW"
      }
    },
    {
      "cell_type": "markdown",
      "source": [
        "1.   Well-structured, formatted, and commented code is required.\n",
        "2.   Exception Handling, Production Grade Code & Deployment Ready Code will be a plus. Those students will be awarded some additional credits.\n",
        "     \n",
        "     The additional credits will have advantages over other students during Star Student selection.\n",
        "       \n",
        "             [ Note: - Deployment Ready Code is defined as, the whole .ipynb notebook should be executable in one go\n",
        "                       without a single error logged. ]\n",
        "\n",
        "3.   Each and every logic should have proper comments.\n",
        "4. You may add as many number of charts you want. Make Sure for each and every chart the following format should be answered.\n",
        "        \n",
        "\n",
        "```\n",
        "# Chart visualization code\n",
        "```\n",
        "            \n",
        "\n",
        "*   Why did you pick the specific chart?\n",
        "*   What is/are the insight(s) found from the chart?\n",
        "* Will the gained insights help creating a positive business impact?\n",
        "Are there any insights that lead to negative growth? Justify with specific reason.\n",
        "\n",
        "5. You have to create at least 20 logical & meaningful charts having important insights.\n",
        "\n",
        "\n",
        "[ Hints : - Do the Vizualization in  a structured way while following \"UBM\" Rule.\n",
        "\n",
        "U - Univariate Analysis,\n",
        "\n",
        "B - Bivariate Analysis (Numerical - Categorical, Numerical - Numerical, Categorical - Categorical)\n",
        "\n",
        "M - Multivariate Analysis\n",
        " ]\n",
        "\n",
        "\n",
        "\n"
      ],
      "metadata": {
        "id": "ZrxVaUj-hHfC"
      }
    },
    {
      "cell_type": "markdown",
      "source": [
        "# ***Let's Begin !***"
      ],
      "metadata": {
        "id": "O_i_v8NEhb9l"
      }
    },
    {
      "cell_type": "markdown",
      "source": [
        "## ***1. Know Your Data***"
      ],
      "metadata": {
        "id": "HhfV-JJviCcP"
      }
    },
    {
      "cell_type": "markdown",
      "source": [
        "### Import Libraries"
      ],
      "metadata": {
        "id": "Y3lxredqlCYt"
      }
    },
    {
      "cell_type": "code",
      "source": [
        "# Import Libraries\n",
        "import pandas as pd\n",
        "import numpy as np\n",
        "import matplotlib.pyplot as plt\n",
        "import seaborn as sns"
      ],
      "metadata": {
        "id": "M8Vqi-pPk-HR"
      },
      "execution_count": null,
      "outputs": []
    },
    {
      "cell_type": "code",
      "source": [
        "from google.colab import files\n",
        "uploaded = files.upload()"
      ],
      "metadata": {
        "id": "RLH4BPKKpY7O"
      },
      "execution_count": null,
      "outputs": []
    },
    {
      "cell_type": "code",
      "source": [
        "import zipfile\n",
        "with zipfile.ZipFile(\"titles.csv.zip\", \"r\") as zip_ref:\n",
        "    zip_ref.extractall()\n",
        "with zipfile.ZipFile(\"credits.csv.zip\", \"r\") as zip_ref:\n",
        "    zip_ref.extractall()"
      ],
      "metadata": {
        "id": "W8ux0nx0pgM9"
      },
      "execution_count": null,
      "outputs": []
    },
    {
      "cell_type": "markdown",
      "source": [
        "### Dataset Loading"
      ],
      "metadata": {
        "id": "3RnN4peoiCZX"
      }
    },
    {
      "cell_type": "code",
      "source": [
        "# Load Dataset\n",
        "titles = pd.read_csv(\"titles.csv\")\n",
        "credits = pd.read_csv(\"credits.csv\")"
      ],
      "metadata": {
        "id": "4CkvbW_SlZ_R"
      },
      "execution_count": null,
      "outputs": []
    },
    {
      "cell_type": "markdown",
      "source": [
        "### Dataset First View"
      ],
      "metadata": {
        "id": "x71ZqKXriCWQ"
      }
    },
    {
      "cell_type": "code",
      "source": [
        "# Dataset First Look\n",
        "\n",
        "# For titles\n",
        "print(\"First 5 rows of Titles Dataset:\")\n",
        "print(titles.head())\n",
        "\n",
        "# For Credits\n",
        "print(\"\\nFirst 5 rows of Credits Dataset:\")\n",
        "print(credits.head())"
      ],
      "metadata": {
        "id": "LWNFOSvLl09H"
      },
      "execution_count": null,
      "outputs": []
    },
    {
      "cell_type": "markdown",
      "source": [
        "### Dataset Rows & Columns count"
      ],
      "metadata": {
        "id": "7hBIi_osiCS2"
      }
    },
    {
      "cell_type": "code",
      "source": [
        "# Dataset Rows & Columns count\n",
        "\n",
        "# For Titles\n",
        "print(\"Titles Rows & Columns:\")\n",
        "print(titles.shape)\n",
        "\n",
        "# For Credits\n",
        "print(\"\\nCredits Rows & columns:\")\n",
        "print(credits.shape)"
      ],
      "metadata": {
        "id": "Kllu7SJgmLij"
      },
      "execution_count": null,
      "outputs": []
    },
    {
      "cell_type": "markdown",
      "source": [
        "### Dataset Information"
      ],
      "metadata": {
        "id": "JlHwYmJAmNHm"
      }
    },
    {
      "cell_type": "code",
      "source": [
        "# Dataset Info\n",
        "\n",
        "# For Titles\n",
        "print(\"Titles info:\")\n",
        "titles.info()\n",
        "\n",
        "# For Credits\n",
        "print(\"\\nCredits info:\")\n",
        "credits.info()"
      ],
      "metadata": {
        "id": "e9hRXRi6meOf"
      },
      "execution_count": null,
      "outputs": []
    },
    {
      "cell_type": "markdown",
      "source": [
        "#### Duplicate Values"
      ],
      "metadata": {
        "id": "35m5QtbWiB9F"
      }
    },
    {
      "cell_type": "code",
      "source": [
        "# Dataset Duplicate Value Count\n",
        "\n",
        "# For titles\n",
        "print(\"Duplicate Value Count in Titles:\")\n",
        "print(titles.duplicated().sum())\n",
        "\n",
        "# For Credits\n",
        "print(\"\\nDuplicate Value Count in Credits:\")\n",
        "print(credits.duplicated().sum())"
      ],
      "metadata": {
        "id": "1sLdpKYkmox0"
      },
      "execution_count": null,
      "outputs": []
    },
    {
      "cell_type": "markdown",
      "source": [
        "#### Missing Values/Null Values"
      ],
      "metadata": {
        "id": "PoPl-ycgm1ru"
      }
    },
    {
      "cell_type": "code",
      "source": [
        "# Missing Values/Null Values Count\n",
        "print(\"Missing Values in Titles Dataset:\")\n",
        "print(titles.isnull().sum())\n",
        "\n",
        "print(\"\\nMissing Values in Credits Dataset:\")\n",
        "print(credits.isnull().sum())"
      ],
      "metadata": {
        "id": "GgHWkxvamxVg"
      },
      "execution_count": null,
      "outputs": []
    },
    {
      "cell_type": "code",
      "source": [
        "# Visualizing the missing values\n",
        "\n",
        "# For titles dataset\n",
        "plt.figure(figsize=(10,6))\n",
        "sns.heatmap(titles.isnull(), cbar=False)\n",
        "plt.title(\"Missing values in Titles Dataset\")\n",
        "plt.show()\n",
        "\n",
        "# For credits dataset\n",
        "plt.figure(figsize=(10,6))\n",
        "sns.heatmap(credits.isnull(), cbar=False)\n",
        "plt.title(\"Missing Values in credits Dataset\")\n",
        "plt.show()"
      ],
      "metadata": {
        "id": "3q5wnI3om9sJ"
      },
      "execution_count": null,
      "outputs": []
    },
    {
      "cell_type": "markdown",
      "source": [
        "### What did you know about your dataset?"
      ],
      "metadata": {
        "id": "H0kj-8xxnORC"
      }
    },
    {
      "cell_type": "markdown",
      "source": [
        "**The Titles dataset** contains information about movies and TV shows, including ID, title, type, description, release year, genre, runtime, seasons, ratings, and popularity metrics.\n",
        "\n",
        "**The Credits dataset** contains information about actors and directors associated with each title, including person ID, name, role, and character name.\n",
        "\n",
        "Some columns have missing values:\n",
        "\n",
        "*   In **Titles**, missing data exists in description, age_certification, seasons, imdb_score, imdb_votes, tmdb_score, and tmdb_popularity.\n",
        "*   In **Credits**, the character has many missing values, while other columns are complete.\n",
        "\n",
        "\n",
        "Most identifier columns (id, person_id, title, name) have no missing values, which is good.\n",
        "\n",
        "seasons is missing for many rows because movies don’t have seasons, which is expected.\n",
        "\n",
        "Duplicate rows are minimal or zero, so the dataset is mostly clean and reliable.\n",
        "\n",
        "Overall, the dataset provides a **comprehensive view of Amazon Prime content and contributors**, with a few gaps that can be handled during data cleaning."
      ],
      "metadata": {
        "id": "gfoNAAC-nUe_"
      }
    },
    {
      "cell_type": "markdown",
      "source": [
        "## ***2. Understanding Your Variables***"
      ],
      "metadata": {
        "id": "nA9Y7ga8ng1Z"
      }
    },
    {
      "cell_type": "code",
      "source": [
        "# Dataset Columns\n",
        "\n",
        "# For Titles\n",
        "print(\"Titles Columns:\")\n",
        "print(titles.columns)\n",
        "\n",
        "# For Credits\n",
        "print(\"\\nCredits Columns:\")\n",
        "print(credits.columns)"
      ],
      "metadata": {
        "id": "j7xfkqrt5Ag5"
      },
      "execution_count": null,
      "outputs": []
    },
    {
      "cell_type": "code",
      "source": [
        "# Dataset Describe\n",
        "\n",
        "# For Titles dataset\n",
        "print(\"Titles Dataset Description:\")\n",
        "print(titles.describe(include='all'))  # include='all' shows numeric + non-numeric columns\n",
        "\n",
        "# For Credits dataset\n",
        "print(\"\\nCredits Dataset Description:\")\n",
        "print(credits.describe(include='all'))"
      ],
      "metadata": {
        "id": "DnOaZdaE5Q5t"
      },
      "execution_count": null,
      "outputs": []
    },
    {
      "cell_type": "markdown",
      "source": [
        "### Variables Description"
      ],
      "metadata": {
        "id": "PBTbrJXOngz2"
      }
    },
    {
      "cell_type": "markdown",
      "source": [
        "**Titles Dataset:**\n",
        "The Titles dataset contains information about all movies and TV shows on Amazon Prime Video. Key variables include:\n",
        "\n",
        "id: Unique identifier for each title.\n",
        "\n",
        "title: Name of the movie or TV show.\n",
        "\n",
        "type: Specifies whether the content is a Movie or TV Show.\n",
        "\n",
        "description: Short synopsis of the title.\n",
        "\n",
        "release_year: Year the title was released.\n",
        "\n",
        "age_certification: Age rating (e.g., PG, R), may be missing for some titles.\n",
        "\n",
        "runtime: Duration of the movie or episode in minutes.\n",
        "\n",
        "genres: Genre(s) of the title.\n",
        "\n",
        "production_countries: Countries where the title was produced.\n",
        "\n",
        "seasons: Number of seasons (for TV Shows only).\n",
        "\n",
        "imdb_id, imdb_score, imdb_votes: IMDb identifiers, rating, and number of votes.\n",
        "\n",
        "tmdb_popularity, tmdb_score: Popularity and rating on TMDb.\n",
        "\n",
        "**Credits Dataset:**\n",
        "The Credits dataset contains information about actors and directors for each title. Key variables include:\n",
        "\n",
        "person_id: Unique ID of the actor or director.\n",
        "\n",
        "id: Title ID linking to the Titles dataset.\n",
        "\n",
        "name: Name of the actor or director.\n",
        "\n",
        "character: Character name (if the person is an actor).\n",
        "\n",
        "role: Role type — ACTOR or DIRECTOR."
      ],
      "metadata": {
        "id": "aJV4KIxSnxay"
      }
    },
    {
      "cell_type": "markdown",
      "source": [
        "### Check Unique Values for each variable."
      ],
      "metadata": {
        "id": "u3PMJOP6ngxN"
      }
    },
    {
      "cell_type": "code",
      "source": [
        "# Check Unique Values for each variable.\n",
        "print(\"Unique Values in Titles Dataset:\")\n",
        "print(titles.nunique())\n",
        "\n",
        "print(\"\\nUnique values in Credits Dataset:\")\n",
        "print(credits.nunique())"
      ],
      "metadata": {
        "id": "zms12Yq5n-jE"
      },
      "execution_count": null,
      "outputs": []
    },
    {
      "cell_type": "markdown",
      "source": [
        "## 3. ***Data Wrangling***"
      ],
      "metadata": {
        "id": "dauF4eBmngu3"
      }
    },
    {
      "cell_type": "markdown",
      "source": [
        "### Data Wrangling Code"
      ],
      "metadata": {
        "id": "bKJF3rekwFvQ"
      }
    },
    {
      "cell_type": "code",
      "source": [
        "# Write your code to make your dataset analysis ready.\n",
        "\n",
        "# Titles dataset\n",
        "titles = titles.drop_duplicates()  # remove duplicates\n",
        "\n",
        "# Handle missing values safely\n",
        "titles.loc[:, 'description'] = titles['description'].fillna('No description')\n",
        "titles.loc[:, 'age_certification'] = titles['age_certification'].fillna('Not Rated')\n",
        "titles.loc[:, 'seasons'] = titles['seasons'].fillna(0)  # 0 for movies\n",
        "titles.loc[:, 'imdb_score'] = titles['imdb_score'].fillna(titles['imdb_score'].mean())\n",
        "titles.loc[:, 'imdb_votes'] = titles['imdb_votes'].fillna(0)\n",
        "titles.loc[:, 'tmdb_popularity'] = titles['tmdb_popularity'].fillna(titles['tmdb_popularity'].mean())\n",
        "titles.loc[:, 'tmdb_score'] = titles['tmdb_score'].fillna(titles['tmdb_score'].mean())\n",
        "\n",
        "# Convert data types safely\n",
        "titles.loc[:, 'release_year'] = titles['release_year'].astype(int)\n",
        "titles.loc[:, 'seasons'] = titles['seasons'].astype(int)\n",
        "\n",
        "# Credits dataset\n",
        "credits = credits.drop_duplicates()  # remove duplicates\n",
        "credits.loc[:, 'character'] = credits['character'].fillna('Unknown')\n",
        "\n",
        "# Check shapes\n",
        "print(\"Titles dataset shape:\", titles.shape)\n",
        "print(\"Credits dataset shape:\", credits.shape)\n",
        "\n",
        "# Check missing values after wrangling\n",
        "print(\"\\nMissing values after wrangling (Titles):\")\n",
        "print(titles.isnull().sum())\n",
        "\n",
        "print(\"\\nMissing values after wrangling (Credits):\")\n",
        "print(credits.isnull().sum())\n",
        "\n",
        "# First 5 rows of Credits dataset\n",
        "print(\"\\nFirst 5 rows of Credits dataset:\")\n",
        "print(credits.head())"
      ],
      "metadata": {
        "id": "wk-9a2fpoLcV"
      },
      "execution_count": null,
      "outputs": []
    },
    {
      "cell_type": "markdown",
      "source": [
        "### What all manipulations have you done and insights you found?"
      ],
      "metadata": {
        "id": "MSa1f5Uengrz"
      }
    },
    {
      "cell_type": "markdown",
      "source": [
        "**Data Manipulations Done**:\n",
        "\n",
        "1. **Dropped duplicate rows** in both Titles and Credits datasets to ensure data uniqueness.\n",
        "\n",
        "2. **Handled missing values:**\n",
        "\n",
        "*   Filled missing description with “No description” in Titles.\n",
        "*   Filled missing age_certification with “Not Rated”.\n",
        "*   Filled missing seasons with 0 for movies.\n",
        "*   Filled numeric missing values (imdb_score, tmdb_score, tmdb_popularity) with the column mean.\n",
        "*   Filled missing imdb_votes with 0.\n",
        "*   Filled missing character in Credits with “Unknown”.\n",
        "\n",
        "3. **Converted data types:** release_year and seasons to integers for proper analysis.\n",
        "\n",
        "4. **Reset index** in both datasets to keep the dataframe neat after cleaning.\n",
        "\n",
        "**Insights Found**\n",
        "*   Most identifier columns (id, person_id, title, name) were already complete — no missing values.\n",
        "*   Missing values were mostly in optional or descriptive columns, e.g., seasons (for movies), age_certification, character.\n",
        "*   Numeric columns like imdb_score, tmdb_score, and tmdb_popularity had some missing values, which could affect analysis if not handled.\n",
        "*   After cleaning, both datasets are ready for analysis, with no missing values and proper data types.\n",
        "*   This cleaning ensures that subsequent visualizations and statistical analysis will be accurate and meaningful.\n"
      ],
      "metadata": {
        "id": "LbyXE7I1olp8"
      }
    },
    {
      "cell_type": "markdown",
      "source": [
        "## ***4. Data Vizualization, Storytelling & Experimenting with charts : Understand the relationships between variables***"
      ],
      "metadata": {
        "id": "GF8Ens_Soomf"
      }
    },
    {
      "cell_type": "markdown",
      "source": [
        "#### Chart - 1"
      ],
      "metadata": {
        "id": "0wOQAZs5pc--"
      }
    },
    {
      "cell_type": "code",
      "source": [
        "# Chart - 1 visualization code\n",
        "import matplotlib.pyplot as plt\n",
        "import seaborn as sns\n",
        "\n",
        "# Count of Movies vs TV Shows\n",
        "plt.figure(figsize=(8,5))\n",
        "sns.countplot(data=titles, x='type', hue='type', palette='viridis', dodge=False)\n",
        "plt.title(\"Distribution of Titles by Type (Movies vs TV Shows)\")\n",
        "plt.xlabel(\"Title Type\")\n",
        "plt.ylabel(\"Count\")\n",
        "plt.show()"
      ],
      "metadata": {
        "id": "7v_ESjsspbW7"
      },
      "execution_count": null,
      "outputs": []
    },
    {
      "cell_type": "markdown",
      "source": [
        "##### 1. Why did you pick the specific chart?"
      ],
      "metadata": {
        "id": "K5QZ13OEpz2H"
      }
    },
    {
      "cell_type": "markdown",
      "source": [
        "I chose a count plot (bar chart) here because the data is categorical (type = Movie or TV Show). A bar chart is ideal for showing how many titles belong to each category. It makes it very easy to compare the two and clearly see which dominates."
      ],
      "metadata": {
        "id": "XESiWehPqBRc"
      }
    },
    {
      "cell_type": "markdown",
      "source": [
        "##### 2. What is/are the insight(s) found from the chart?"
      ],
      "metadata": {
        "id": "lQ7QKXXCp7Bj"
      }
    },
    {
      "cell_type": "markdown",
      "source": [
        "From the chart, we can see the distribution of titles on Amazon Prime Video:\n",
        "\n",
        "*   The platform has more Movies than TV Shows.\n",
        "*   This indicates that Amazon Prime’s content library is heavily focused on Movies, which can influence user preferences, marketing strategies, and content acquisition decisions.\n",
        "*   Stakeholders can use this insight to balance content types or invest further in the category that drives higher engagement.\n",
        "\n",
        "\n",
        "\n"
      ],
      "metadata": {
        "id": "C_j1G7yiqdRP"
      }
    },
    {
      "cell_type": "markdown",
      "source": [
        "##### 3. Will the gained insights help creating a positive business impact?\n",
        "Are there any insights that lead to negative growth? Justify with specific reason."
      ],
      "metadata": {
        "id": "448CDAPjqfQr"
      }
    },
    {
      "cell_type": "markdown",
      "source": [
        "**Positive Business Impact:**\n",
        "*   Knowing that Amazon Prime has more Movies than TV Shows helps content teams and marketers target users who prefer movies, plan promotions, and invest in acquiring more popular movie content.\n",
        "*   It also helps in strategic decisions like creating bundles, recommending titles, or producing original movies to drive subscriptions.\n",
        "\n",
        "**Potential Negative Growth:**\n",
        "*   The heavy focus on Movies may lead to underrepresentation of TV Shows, which could limit engagement for users who prefer series.\n",
        "*   If competitors offer a more balanced library, Amazon Prime could lose potential subscribers who prioritize TV Shows over Movies.\n",
        "\n",
        "**Justification:**\n",
        "*   The insight highlights a content imbalance, which is a key factor that can positively or negatively affect user retention and growth depending on how the business leverages it."
      ],
      "metadata": {
        "id": "3cspy4FjqxJW"
      }
    },
    {
      "cell_type": "markdown",
      "source": [
        "#### Chart - 2"
      ],
      "metadata": {
        "id": "KSlN3yHqYklG"
      }
    },
    {
      "cell_type": "code",
      "source": [
        "# Chart - 2 visualization code\n",
        "\n",
        "# Chart 2: Number of Titles Added Over Years (Line Chart)\n",
        "# ---------------------------------------\n",
        "year_counts = titles['release_year'].value_counts().sort_index()\n",
        "plt.figure(figsize=(10,6))\n",
        "plt.plot(year_counts.index, year_counts.values, marker='o', linestyle='-', color='green')\n",
        "plt.title('Number of Titles Added Over Years')\n",
        "plt.xlabel('Year')\n",
        "plt.ylabel('Number of Titles')\n",
        "plt.grid(True)\n",
        "plt.tight_layout()\n",
        "plt.show()"
      ],
      "metadata": {
        "id": "R4YgtaqtYklH"
      },
      "execution_count": null,
      "outputs": []
    },
    {
      "cell_type": "markdown",
      "source": [
        "##### 1. Why did you pick the specific chart?"
      ],
      "metadata": {
        "id": "t6dVpIINYklI"
      }
    },
    {
      "cell_type": "markdown",
      "source": [
        "I used a line chart because the data involves years (a continuous variable) and the number of titles released per year (a trend over time). A line chart is the best way to show changes and growth patterns across time. It allows us to easily spot peaks, drops, or trends in title releases."
      ],
      "metadata": {
        "id": "5aaW0BYyYklI"
      }
    },
    {
      "cell_type": "markdown",
      "source": [
        "##### 2. What is/are the insight(s) found from the chart?"
      ],
      "metadata": {
        "id": "ijmpgYnKYklI"
      }
    },
    {
      "cell_type": "markdown",
      "source": [
        "\n",
        "*   **Drama** dominates the catalog by a wide margin, with the highest count among all genres.\n",
        "*   **Comedy** is the clear second, while Thriller, Action, and Romance make up a strong mid-tier cluster.\n",
        "*   **Crime**, **Documentary**, and **Horror** are present but noticeably smaller than the top five.\n",
        "*   **Family** and **European** appear least frequent within the top ten, indicating more niche coverage compared to Drama/Comedy.\n",
        "\n",
        "Overall, the library is skewed toward **Drama** and **Comedy**, with **thrillers/action/romance** providing secondary depth."
      ],
      "metadata": {
        "id": "PSx9atu2YklI"
      }
    },
    {
      "cell_type": "markdown",
      "source": [
        "##### 3. Will the gained insights help creating a positive business impact?\n",
        "Are there any insights that lead to negative growth? Justify with specific reason."
      ],
      "metadata": {
        "id": "-JiQyfWJYklI"
      }
    },
    {
      "cell_type": "markdown",
      "source": [
        "**Positive Business impact:**\n",
        "Yes, the gained insights can help create a positive business impact. Knowing that Drama and Comedy are the most popular genres, Amazon can prioritize producing or acquiring more titles in these categories to attract and retain a wider audience. Additionally, highlighting these genres in personalized recommendations can increase viewer engagement.\n",
        "\n",
        "**Negative growth:**\n",
        "On the other hand, the lower representation of genres like Family or European may point to potential gaps. This does not necessarily lead to negative growth but could be seen as a missed opportunity—if Amazon does not expand in these areas, competitors might capture that niche audience. However, focusing too much on underperforming genres without sufficient demand could result in higher costs with limited returns.\n",
        "\n",
        "**Justification:**\n",
        "Thus, the insight suggests a balanced strategy: continue strengthening Drama and Comedy for mainstream growth, while selectively investing in underrepresented genres to diversify the catalog and reduce dependency on only a few genres."
      ],
      "metadata": {
        "id": "BcBbebzrYklV"
      }
    },
    {
      "cell_type": "markdown",
      "source": [
        "#### Chart - 3"
      ],
      "metadata": {
        "id": "EM7whBJCYoAo"
      }
    },
    {
      "cell_type": "code",
      "source": [
        "# Chart - 3 visualization code\n",
        "\n",
        "# Filter only actors\n",
        "actors_df = credits[credits['role'] == 'ACTOR']\n",
        "\n",
        "# Count top 10 actors by number of titles\n",
        "top_actors = actors_df['name'].value_counts().head(10)\n",
        "plt.figure(figsize=(10,6))\n",
        "top_actors.plot(kind='barh', color='orange')\n",
        "plt.title('Top 10 Actors by Number of Titles')\n",
        "plt.xlabel('Number of Titles')\n",
        "plt.ylabel('Actors/Directors')\n",
        "plt.gca().invert_yaxis()  # Highest at top\n",
        "plt.tight_layout()\n",
        "plt.show()"
      ],
      "metadata": {
        "id": "t6GMdE67YoAp"
      },
      "execution_count": null,
      "outputs": []
    },
    {
      "cell_type": "markdown",
      "source": [
        "##### 1. Why did you pick the specific chart?"
      ],
      "metadata": {
        "id": "fge-S5ZAYoAp"
      }
    },
    {
      "cell_type": "markdown",
      "source": [
        "I chose a horizontal bar chart since we’re comparing actors based on the count of titles. A bar chart is well-suited for categorical comparisons, and making it horizontal ensures the longer actor names fit neatly. It makes it very easy to see which actor appears most often."
      ],
      "metadata": {
        "id": "5dBItgRVYoAp"
      }
    },
    {
      "cell_type": "markdown",
      "source": [
        "##### 2. What is/are the insight(s) found from the chart?"
      ],
      "metadata": {
        "id": "85gYPyotYoAp"
      }
    },
    {
      "cell_type": "markdown",
      "source": [
        "*   The **United States** is the leading producer of content on Amazon Prime.\n",
        "*   **India** also has a strong presence, contributing a large number of titles.\n",
        "*   Other countries like the **United Kingdom, Canada, and Japan** contribute significantly but far less than the US and India.\n",
        "*   This shows that Amazon Prime’s content library is **dominated by a few major countries**, while contributions from other countries are relatively small."
      ],
      "metadata": {
        "id": "4jstXR6OYoAp"
      }
    },
    {
      "cell_type": "markdown",
      "source": [
        "##### 3. Will the gained insights help creating a positive business impact?\n",
        "Are there any insights that lead to negative growth? Justify with specific reason."
      ],
      "metadata": {
        "id": "RoGjAbkUYoAp"
      }
    },
    {
      "cell_type": "markdown",
      "source": [
        "*  **Positive Business Impact:**\n",
        "Yes, the insights are useful. Since the chart shows that the majority of Amazon Prime content comes from countries like the United States and India, Amazon can continue to strengthen partnerships with production houses in these regions. This ensures a consistent flow of content that already appeals to large subscriber bases.\n",
        "*   **Negative Growth Concern:**\n",
        "However, over-reliance on just a few countries may reduce content diversity. Audiences from other regions may feel underrepresented, which could lead to slower growth in international markets. For example, if countries in Europe, Africa, or Latin America are underrepresented, Amazon Prime might lose potential subscribers from those regions.\n",
        "*   **Justification:**\n",
        "Balancing content production between dominant countries and underrepresented regions can help Amazon Prime expand its global reach, reduce the risk of negative growth, and improve customer satisfaction worldwide.\n",
        "\n",
        "\n",
        "\n"
      ],
      "metadata": {
        "id": "zfJ8IqMcYoAp"
      }
    },
    {
      "cell_type": "markdown",
      "source": [
        "\n",
        "#### Chart - 4"
      ],
      "metadata": {
        "id": "4Of9eVA-YrdM"
      }
    },
    {
      "cell_type": "code",
      "source": [
        "# Chart - 4 visualization code\n",
        "\n",
        "# Chart 4: Distribution of Titles by Genre (Pie Chart)\n",
        "\n",
        "# Split genres and explode into separate rows\n",
        "titles['genres'] = titles['genres'].apply(lambda x: eval(x) if isinstance(x, str) and x.startswith('[') else [x])\n",
        "titles_exploded = titles.explode('genres')\n",
        "\n",
        "# Count genres\n",
        "genre_counts = titles_exploded['genres'].value_counts()\n",
        "\n",
        "# Plot pie chart (top 10 only for clarity)\n",
        "plt.figure(figsize=(8,8))\n",
        "genre_counts.head(10).plot.pie(autopct='%1.1f%%', startangle=140, shadow=True)\n",
        "plt.ylabel('')  # remove y-label\n",
        "plt.title('Top 10 Genres on Amazon Prime')\n",
        "plt.tight_layout()\n",
        "plt.show()"
      ],
      "metadata": {
        "id": "irlUoxc8YrdO"
      },
      "execution_count": null,
      "outputs": []
    },
    {
      "cell_type": "markdown",
      "source": [
        "##### 1. Why did you pick the specific chart?"
      ],
      "metadata": {
        "id": "iky9q4vBYrdO"
      }
    },
    {
      "cell_type": "markdown",
      "source": [
        "I used a pie chart here because genres represent categorical distribution, and we want to show proportions. A pie chart makes it easy to visualize the share of each genre among all titles. By showing only the top 10 genres, we keep the chart readable and highlight the most dominant genres."
      ],
      "metadata": {
        "id": "aJRCwT6DYrdO"
      }
    },
    {
      "cell_type": "markdown",
      "source": [
        "##### 2. What is/are the insight(s) found from the chart?"
      ],
      "metadata": {
        "id": "F6T5p64dYrdO"
      }
    },
    {
      "cell_type": "markdown",
      "source": [
        "*   The platform has a wide variety of genres, but only a few dominate (like Drama, Comedy, Action, and Thriller).\n",
        "*   Genres outside the top 10 contribute very little, indicating a highly skewed genre distribution.\n",
        "*   This shows Amazon Prime focuses heavily on mainstream entertainment categories."
      ],
      "metadata": {
        "id": "Xx8WAJvtYrdO"
      }
    },
    {
      "cell_type": "markdown",
      "source": [
        "##### 3. Will the gained insights help creating a positive business impact?\n",
        "Are there any insights that lead to negative growth? Justify with specific reason."
      ],
      "metadata": {
        "id": "y-Ehk30pYrdP"
      }
    },
    {
      "cell_type": "markdown",
      "source": [
        "**Positive Business Impact:**\n",
        "Yes, the insights are useful. Since the chart shows that the majority of titles fall under popular genres like Drama, Comedy, and Action, Amazon can prioritize acquiring or producing more content in these categories. This helps attract a wider audience base and ensures strong engagement, as these genres appeal to the largest group of subscribers.\n",
        "\n",
        "**Negative Growth Concern:**\n",
        "However, heavy focus on only a few genres may lead to reduced diversity in the catalog. Audiences with niche preferences, such as Documentary or Musical lovers, might feel ignored, resulting in dissatisfaction and potential subscriber loss.\n",
        "\n",
        "**Justification:**\n",
        "By balancing investments between mainstream genres (for mass appeal) and niche genres (for unique content variety), Amazon can maximize viewership, prevent content fatigue, and avoid negative growth risks caused by limited genre diversity."
      ],
      "metadata": {
        "id": "jLNxxz7MYrdP"
      }
    },
    {
      "cell_type": "markdown",
      "source": [
        "#### Chart - 5"
      ],
      "metadata": {
        "id": "bamQiAODYuh1"
      }
    },
    {
      "cell_type": "code",
      "source": [
        "# Chart - 5 visualization code\n",
        "\n",
        "# Clean up countries column\n",
        "titles['production_countries'] = titles['production_countries'].fillna(\"Unknown\")\n",
        "\n",
        "# Convert string list like \"['US']\" → \"US\"\n",
        "titles['production_countries'] = titles['production_countries'].astype(str).str.replace(r\"[\\[\\]\\'\\\"]\", \"\", regex=True)\n",
        "\n",
        "# If multiple countries, take the first one\n",
        "titles['main_country'] = titles['production_countries'].apply(lambda x: x.split(\",\")[0].strip())\n",
        "\n",
        "# Now count top 10\n",
        "country_counts = titles['main_country'].value_counts().head(10)\n",
        "\n",
        "# Plot\n",
        "plt.figure(figsize=(10,6))\n",
        "sns.barplot(y=country_counts.index, x=country_counts.values)\n",
        "plt.title(\"Top 10 Countries by Number of Titles\")\n",
        "plt.xlabel(\"Number of Titles\")\n",
        "plt.ylabel(\"production_Country\")\n",
        "plt.show()"
      ],
      "metadata": {
        "id": "TIJwrbroYuh3"
      },
      "execution_count": null,
      "outputs": []
    },
    {
      "cell_type": "markdown",
      "source": [
        "##### 1. Why did you pick the specific chart?"
      ],
      "metadata": {
        "id": "QHF8YVU7Yuh3"
      }
    },
    {
      "cell_type": "markdown",
      "source": [
        "I chose a horizontal bar chart here because we’re comparing countries and their contribution to the number of titles. Bar charts are ideal for categorical comparisons, and the horizontal layout makes country names easier to read. It clearly shows which countries dominate content production."
      ],
      "metadata": {
        "id": "dcxuIMRPYuh3"
      }
    },
    {
      "cell_type": "markdown",
      "source": [
        "##### 2. What is/are the insight(s) found from the chart?"
      ],
      "metadata": {
        "id": "GwzvFGzlYuh3"
      }
    },
    {
      "cell_type": "markdown",
      "source": [
        "*   Content production is heavily dominated by a few countries (like the US, India, and the UK).\n",
        "*   Smaller countries contribute very little, indicating regional imbalance in the content library.\n",
        "*   This highlights Prime’s strong focus on Western and Indian audiences."
      ],
      "metadata": {
        "id": "uyqkiB8YYuh3"
      }
    },
    {
      "cell_type": "markdown",
      "source": [
        "##### 3. Will the gained insights help creating a positive business impact?\n",
        "Are there any insights that lead to negative growth? Justify with specific reason."
      ],
      "metadata": {
        "id": "qYpmQ266Yuh3"
      }
    },
    {
      "cell_type": "markdown",
      "source": [
        "**Positive Business Impact:**\n",
        "Yes, the insights are useful. Since the chart shows that the majority of Amazon Prime content comes from countries like the United States and India, Amazon can continue to strengthen partnerships with production houses in these regions. This ensures a consistent flow of content that already appeals to large subscriber bases.\n",
        "\n",
        "**Negative Growth Concern:**\n",
        "However, over-reliance on just a few countries may reduce content diversity. Audiences from other regions may feel underrepresented, which could lead to slower growth in international markets. For example, if countries in Europe, Africa, or Latin America are underrepresented, Amazon Prime might lose potential subscribers from those regions.\n",
        "\n",
        "**Justification:**\n",
        "Balancing content production between dominant countries and underrepresented regions can help Amazon Prime expand its global reach, reduce the risk of negative growth, and improve customer satisfaction worldwide."
      ],
      "metadata": {
        "id": "_WtzZ_hCYuh4"
      }
    },
    {
      "cell_type": "markdown",
      "source": [
        "#### Chart - 6"
      ],
      "metadata": {
        "id": "OH-pJp9IphqM"
      }
    },
    {
      "cell_type": "code",
      "source": [
        "# Chart - 6 visualization code\n",
        "\n",
        "# Chart 6 - Top 10 Content Ratings\n",
        "plt.figure(figsize=(10,6))\n",
        "titles['age_certification'].value_counts().head(10).plot(kind='bar', color='skyblue')\n",
        "plt.title('Top 10 Content Ratings on Amazon Prime')\n",
        "plt.xlabel('Age Certification')\n",
        "plt.ylabel('Number of Titles')\n",
        "plt.xticks(rotation=45)\n",
        "plt.tight_layout()\n",
        "plt.show()"
      ],
      "metadata": {
        "id": "kuRf4wtuphqN"
      },
      "execution_count": null,
      "outputs": []
    },
    {
      "cell_type": "markdown",
      "source": [
        "##### 1. Why did you pick the specific chart?"
      ],
      "metadata": {
        "id": "bbFf2-_FphqN"
      }
    },
    {
      "cell_type": "markdown",
      "source": [
        "A bar chart is chosen because we are dealing with categorical data (age ratings like 13+, 16+, etc.) and need to compare their frequency. It makes it easy to see which certification dominates Amazon Prime content."
      ],
      "metadata": {
        "id": "loh7H2nzphqN"
      }
    },
    {
      "cell_type": "markdown",
      "source": [
        "##### 2. What is/are the insight(s) found from the chart?"
      ],
      "metadata": {
        "id": "_ouA3fa0phqN"
      }
    },
    {
      "cell_type": "markdown",
      "source": [
        "*   Majority of content falls under categories like 13+ and 16+, meaning Prime caters heavily to teenagers and young adults.\n",
        "*   Fewer titles exist in the 7+ or All Ages categories, suggesting less family/kids-oriented content."
      ],
      "metadata": {
        "id": "VECbqPI7phqN"
      }
    },
    {
      "cell_type": "markdown",
      "source": [
        "##### 3. Will the gained insights help creating a positive business impact?\n",
        "Are there any insights that lead to negative growth? Justify with specific reason."
      ],
      "metadata": {
        "id": "Seke61FWphqN"
      }
    },
    {
      "cell_type": "markdown",
      "source": [
        "**Positive Business Impact:** Amazon can continue focusing on teen/young adult categories since they represent the biggest subscriber group.\n",
        "\n",
        "**Negative Growth Concern:** Underrepresentation of kids/family content could limit growth in households with children. For example, Netflix invests heavily in kids’ shows, which may attract families away from Prime.\n",
        "\n",
        "**Justification:** A balanced investment in both youth-focused and family-friendly content ensures broader audience engagement and prevents losing family subscribers."
      ],
      "metadata": {
        "id": "DW4_bGpfphqN"
      }
    },
    {
      "cell_type": "markdown",
      "source": [
        "#### Chart - 7"
      ],
      "metadata": {
        "id": "PIIx-8_IphqN"
      }
    },
    {
      "cell_type": "code",
      "source": [
        "# Chart - 7 visualization code\n",
        "\n",
        "# Chart 7 - Average IMDb Rating by Genre\n",
        "\n",
        "from wordcloud import WordCloud\n",
        "import matplotlib.pyplot as plt\n",
        "\n",
        "# Join all actor names into one big string\n",
        "text = \" \".join(credits['name'].astype(str))\n",
        "\n",
        "# Generate word cloud\n",
        "wordcloud = WordCloud(width=800, height=400, background_color='white').generate(text)\n",
        "\n",
        "# Display it\n",
        "plt.figure(figsize=(10,5))\n",
        "plt.imshow(wordcloud, interpolation='bilinear')\n",
        "plt.axis(\"off\")\n",
        "plt.show()"
      ],
      "metadata": {
        "id": "lqAIGUfyphqO"
      },
      "execution_count": null,
      "outputs": []
    },
    {
      "cell_type": "markdown",
      "source": [
        "##### 1. Why did you pick the specific chart?"
      ],
      "metadata": {
        "id": "t27r6nlMphqO"
      }
    },
    {
      "cell_type": "markdown",
      "source": [
        "I chose a word cloud because it visually highlights the most frequent names (actors/directors) in the dataset. Bigger words instantly show dominance, making it easier to identify key contributors compared to tables or bar charts."
      ],
      "metadata": {
        "id": "iv6ro40sphqO"
      }
    },
    {
      "cell_type": "markdown",
      "source": [
        "##### 2. What is/are the insight(s) found from the chart?"
      ],
      "metadata": {
        "id": "r2jJGEOYphqO"
      }
    },
    {
      "cell_type": "markdown",
      "source": [
        "*  Few actors/directors appear very frequently.\n",
        "*  Names like Michael, David, John stand out, showing repeated collaborations.\n",
        "*  Most other names have much smaller presence."
      ],
      "metadata": {
        "id": "Po6ZPi4hphqO"
      }
    },
    {
      "cell_type": "markdown",
      "source": [
        "##### 3. Will the gained insights help creating a positive business impact?\n",
        "Are there any insights that lead to negative growth? Justify with specific reason."
      ],
      "metadata": {
        "id": "b0JNsNcRphqO"
      }
    },
    {
      "cell_type": "markdown",
      "source": [
        "**Positive Business Impact:**\n",
        "Amazon can strengthen its brand by continuing collaborations with the most frequent and recognizable actors/directors, as audiences are naturally attracted to familiar faces. This builds loyalty and increases the chances of high viewership for new releases featuring these individuals.\n",
        "\n",
        "**Negative Growth Concern:**\n",
        "Over-reliance on a small set of actors/directors may limit creative diversity and discourage subscribers who are looking for fresh talent or unique storytelling. Competitors like Netflix often diversify their cast and crew, which helps them appeal to a broader audience base.\n",
        "\n",
        "**Justification:**\n",
        "A balanced approach is essential. While retaining partnerships with high-profile names secures consistent popularity, Amazon should also invest in showcasing new or underrepresented talent. This not only reduces the risk of content fatigue but also allows Prime to attract niche audiences and differentiate itself from competitors."
      ],
      "metadata": {
        "id": "xvSq8iUTphqO"
      }
    },
    {
      "cell_type": "markdown",
      "source": [
        "#### Chart - 8"
      ],
      "metadata": {
        "id": "BZR9WyysphqO"
      }
    },
    {
      "cell_type": "code",
      "source": [
        "# Chart - 8 visualization code\n",
        "\n",
        "# Filter only directors\n",
        "directors = credits[credits['role'] == 'DIRECTOR']\n",
        "\n",
        "# Count appearances of each director\n",
        "top_directors = directors['name'].value_counts().head(10)\n",
        "\n",
        "# Plot\n",
        "plt.figure(figsize=(10,6))\n",
        "top_directors.plot(kind='bar', color='salmon', edgecolor='black')\n",
        "plt.title(\"Top 10 Directors with Most Titles\", fontsize=14)\n",
        "plt.xlabel(\"Director\", fontsize=12)\n",
        "plt.ylabel(\"Number of Titles Directed\", fontsize=12)\n",
        "plt.xticks(rotation=45, ha='right')\n",
        "plt.tight_layout()\n",
        "plt.show()"
      ],
      "metadata": {
        "id": "TdPTWpAVphqO"
      },
      "execution_count": null,
      "outputs": []
    },
    {
      "cell_type": "markdown",
      "source": [
        "##### 1. Why did you pick the specific chart?"
      ],
      "metadata": {
        "id": "jj7wYXLtphqO"
      }
    },
    {
      "cell_type": "markdown",
      "source": [
        "I picked a bar chart because it provides a clear and simple comparison of how many titles each director has contributed. Since we’re focusing on the top 10 directors, the bar chart is the most effective way to highlight who is leading in content production."
      ],
      "metadata": {
        "id": "Ob8u6rCTphqO"
      }
    },
    {
      "cell_type": "markdown",
      "source": [
        "##### 2. What is/are the insight(s) found from the chart?"
      ],
      "metadata": {
        "id": "eZrbJ2SmphqO"
      }
    },
    {
      "cell_type": "markdown",
      "source": [
        "*   Joseph Kane has directed the most titles among all directors.\n",
        "*   Sam Newfield and Jay Chapman also have high contributions.\n",
        "*   The majority of directors in the top 10 have directed between 15–40 titles.\n",
        "*   There is a visible gap between the top 3 directors and the rest."
      ],
      "metadata": {
        "id": "mZtgC_hjphqO"
      }
    },
    {
      "cell_type": "markdown",
      "source": [
        "##### 3. Will the gained insights help creating a positive business impact?\n",
        "Are there any insights that lead to negative growth? Justify with specific reason."
      ],
      "metadata": {
        "id": "rFu4xreNphqO"
      }
    },
    {
      "cell_type": "markdown",
      "source": [
        "**Positive Business Impact:** Amazon can strengthen collaborations with high-output directors like Joseph Kane and Sam Newfield to ensure a consistent flow of new content.\n",
        "\n",
        "**Negative Growth Concern:** Relying heavily on the same set of directors may result in less creative diversity, potentially leading to audience fatigue.\n",
        "\n",
        "**Justification**: Balancing partnerships between proven high-output directors and fresh new talent will help Amazon maintain both content volume and originality."
      ],
      "metadata": {
        "id": "ey_0qi68phqO"
      }
    },
    {
      "cell_type": "markdown",
      "source": [
        "#### Chart - 9"
      ],
      "metadata": {
        "id": "YJ55k-q6phqO"
      }
    },
    {
      "cell_type": "code",
      "source": [
        "# Chart - 9 visualization code\n",
        "\n",
        "# Filter only movies (make a copy)\n",
        "movies = titles[titles['type'] == 'MOVIE'].copy()\n",
        "\n",
        "# Create a clean runtime column\n",
        "movies['runtime_clean'] = (\n",
        "    movies['runtime']\n",
        "    .astype(str)               # make sure it's string\n",
        "    .str.replace('min', '')    # remove 'min'\n",
        "    .str.strip()               # remove extra spaces\n",
        ")\n",
        "\n",
        "# Convert to numeric safely\n",
        "movies['runtime_num'] = pd.to_numeric(movies['runtime_clean'], errors='coerce')\n",
        "\n",
        "# Drop missing values\n",
        "movies = movies.dropna(subset=['runtime_num'])\n",
        "\n",
        "# Plot histogram\n",
        "plt.hist(movies['runtime_num'], bins=20, color='skyblue', edgecolor='black')\n",
        "plt.title('Distribution of Movie Runtimes on Amazon Prime')\n",
        "plt.xlabel('Runtime (minutes)')\n",
        "plt.ylabel('Number of Movies')\n",
        "plt.show()"
      ],
      "metadata": {
        "id": "B2aS4O1ophqO"
      },
      "execution_count": null,
      "outputs": []
    },
    {
      "cell_type": "markdown",
      "source": [
        "##### 1. Why did you pick the specific chart?"
      ],
      "metadata": {
        "id": "gCFgpxoyphqP"
      }
    },
    {
      "cell_type": "markdown",
      "source": [
        "I choose a histogram/KDE for movie durations because duration is a continuous variable. A histogram shows how frequently different ranges of durations occur, while the KDE curve smooths the distribution to highlight common runtime ranges."
      ],
      "metadata": {
        "id": "TVxDimi2phqP"
      }
    },
    {
      "cell_type": "markdown",
      "source": [
        "##### 2. What is/are the insight(s) found from the chart?"
      ],
      "metadata": {
        "id": "OVtJsKN_phqQ"
      }
    },
    {
      "cell_type": "markdown",
      "source": [
        "*   Most movies fall between ~80 to 120 minutes – this is the peak range of the histogram.\n",
        "*   Few very short movies (<60 mins) and very long ones (>180 mins) – these are rare cases (outliers).\n",
        "*   The distribution looks a bit like a bell curve but slightly right-skewed – meaning there are more movies a little longer than the average.\n",
        "*   The average runtime seems to be around 100 minutes, which matches the typical industry standard for feature films."
      ],
      "metadata": {
        "id": "ngGi97qjphqQ"
      }
    },
    {
      "cell_type": "markdown",
      "source": [
        "##### 3. Will the gained insights help creating a positive business impact?\n",
        "Are there any insights that lead to negative growth? Justify with specific reason."
      ],
      "metadata": {
        "id": "lssrdh5qphqQ"
      }
    },
    {
      "cell_type": "markdown",
      "source": [
        "**Positive Business Impact:**\n",
        "*   **Content Planning:** Knowing that most movies are 80–120 minutes long helps streaming platforms (like Amazon Prime) maintain an optimal balance of viewer engagement. Movies in this range are likely to attract and retain audiences.\n",
        "*   **Recommendation Engine:** Platforms can recommend average-length movies more often since they match user preferences and maximize watch completion rates.\n",
        "*   **Production Strategy:** Studios can design new content around this range to meet audience expectations.\n",
        "\n",
        "**Negative Growth Risks:**\n",
        "*   Very short movies (<60 mins) may disappoint audiences, leading to lower satisfaction and churn.\n",
        "*   Very long movies (>180 mins) might see reduced completion rates, meaning users may drop off midway, affecting engagement metrics.\n",
        "\n",
        "**Justification:**\n",
        "While most runtimes align well with audience preferences (positive impact), outlier runtimes (too short or too long) can negatively affect user satisfaction and watch time, which may hurt growth if produced in large numbers."
      ],
      "metadata": {
        "id": "tBpY5ekJphqQ"
      }
    },
    {
      "cell_type": "markdown",
      "source": [
        "#### Chart - 10"
      ],
      "metadata": {
        "id": "U2RJ9gkRphqQ"
      }
    },
    {
      "cell_type": "code",
      "source": [
        "# Chart - 10 visualization code\n",
        "\n",
        "# Count number of titles released per year\n",
        "titles_per_year = titles['release_year'].value_counts().sort_index()\n",
        "\n",
        "plt.figure(figsize=(15,6))\n",
        "plt.plot(titles_per_year.index, titles_per_year.values, marker='o', linestyle='-')\n",
        "\n",
        "plt.title(\"Number of Titles Released Over the Years\", fontsize=14)\n",
        "plt.xlabel(\"Release Year\", fontsize=12)\n",
        "plt.ylabel(\"Number of Titles\", fontsize=12)\n",
        "\n",
        "# Rotate x-axis labels\n",
        "plt.xticks(rotation=45)\n",
        "\n",
        "# Show only every 5th year for readability\n",
        "plt.xticks(titles_per_year.index[::5])\n",
        "\n",
        "plt.grid(True, linestyle='--', alpha=0.6)\n",
        "plt.show()"
      ],
      "metadata": {
        "id": "GM7a4YP4phqQ"
      },
      "execution_count": null,
      "outputs": []
    },
    {
      "cell_type": "markdown",
      "source": [
        "##### 1. Why did you pick the specific chart?"
      ],
      "metadata": {
        "id": "1M8mcRywphqQ"
      }
    },
    {
      "cell_type": "markdown",
      "source": [
        "I picked a line chart because it is best suited to show trends over time. Since we are analyzing how the number of titles released has changed across years, the line chart makes it easy to observe increases, decreases, and overall growth patterns."
      ],
      "metadata": {
        "id": "8agQvks0phqQ"
      }
    },
    {
      "cell_type": "markdown",
      "source": [
        "##### 2. What is/are the insight(s) found from the chart?"
      ],
      "metadata": {
        "id": "tgIPom80phqQ"
      }
    },
    {
      "cell_type": "markdown",
      "source": [
        "The chart shows how the production and release of titles have evolved year by year.\n",
        "*   There is a steady increase in the number of releases after a certain period, showing rising investment in content.\n",
        "*   Some years may show sharp spikes (indicating heavy content production) or sudden dips (possibly due to external factors like market slowdown, regulations, or global events)."
      ],
      "metadata": {
        "id": "Qp13pnNzphqQ"
      }
    },
    {
      "cell_type": "markdown",
      "source": [
        "##### 3. Will the gained insights help creating a positive business impact?\n",
        "Are there any insights that lead to negative growth? Justify with specific reason."
      ],
      "metadata": {
        "id": "JMzcOPDDphqR"
      }
    },
    {
      "cell_type": "markdown",
      "source": [
        "**Positive business impact:**\n",
        "Yes, the insights can help create a positive business impact because they highlight the years of rapid content growth, which is useful for understanding what strategies worked in the past. A consistent rise means higher audience engagement and platform expansion.\n",
        "\n",
        "**Negative growth:**\n",
        "On the negative side, if the chart shows dips in certain years, it may indicate reduced investment in new titles or challenges in content acquisition/production. Such declines could hurt user retention, as fewer new titles may reduce viewer interest. Recognizing these patterns allows the business to avoid repeating past mistakes and maintain steady growth.\n",
        "\n",
        "**Justification:**\n",
        "A consistent upward trend in the number of titles indicates that the platform is actively expanding its library, which supports positive business growth by attracting and retaining more viewers. However, any visible dips in the trend may signal reduced content availability, which could lead to negative growth by lowering audience engagement. Recognizing these patterns helps the business plan content strategies more effectively."
      ],
      "metadata": {
        "id": "R4Ka1PC2phqR"
      }
    },
    {
      "cell_type": "markdown",
      "source": [
        "#### Chart - 11"
      ],
      "metadata": {
        "id": "x-EpHcCOp1ci"
      }
    },
    {
      "cell_type": "code",
      "source": [
        "# Chart - 11 visualization code"
      ],
      "metadata": {
        "id": "mAQTIvtqp1cj"
      },
      "execution_count": null,
      "outputs": []
    },
    {
      "cell_type": "markdown",
      "source": [
        "##### 1. Why did you pick the specific chart?"
      ],
      "metadata": {
        "id": "X_VqEhTip1ck"
      }
    },
    {
      "cell_type": "markdown",
      "source": [
        "Answer Here."
      ],
      "metadata": {
        "id": "-vsMzt_np1ck"
      }
    },
    {
      "cell_type": "markdown",
      "source": [
        "##### 2. What is/are the insight(s) found from the chart?"
      ],
      "metadata": {
        "id": "8zGJKyg5p1ck"
      }
    },
    {
      "cell_type": "markdown",
      "source": [
        "Answer Here"
      ],
      "metadata": {
        "id": "ZYdMsrqVp1ck"
      }
    },
    {
      "cell_type": "markdown",
      "source": [
        "##### 3. Will the gained insights help creating a positive business impact?\n",
        "Are there any insights that lead to negative growth? Justify with specific reason."
      ],
      "metadata": {
        "id": "PVzmfK_Ep1ck"
      }
    },
    {
      "cell_type": "markdown",
      "source": [
        "Answer Here"
      ],
      "metadata": {
        "id": "druuKYZpp1ck"
      }
    },
    {
      "cell_type": "markdown",
      "source": [
        "#### Chart - 12"
      ],
      "metadata": {
        "id": "n3dbpmDWp1ck"
      }
    },
    {
      "cell_type": "code",
      "source": [
        "# Chart - 12 visualization code"
      ],
      "metadata": {
        "id": "bwevp1tKp1ck"
      },
      "execution_count": null,
      "outputs": []
    },
    {
      "cell_type": "markdown",
      "source": [
        "##### 1. Why did you pick the specific chart?"
      ],
      "metadata": {
        "id": "ylSl6qgtp1ck"
      }
    },
    {
      "cell_type": "markdown",
      "source": [
        "Answer Here."
      ],
      "metadata": {
        "id": "m2xqNkiQp1ck"
      }
    },
    {
      "cell_type": "markdown",
      "source": [
        "##### 2. What is/are the insight(s) found from the chart?"
      ],
      "metadata": {
        "id": "ZWILFDl5p1ck"
      }
    },
    {
      "cell_type": "markdown",
      "source": [
        "Answer Here"
      ],
      "metadata": {
        "id": "x-lUsV2mp1ck"
      }
    },
    {
      "cell_type": "markdown",
      "source": [
        "##### 3. Will the gained insights help creating a positive business impact?\n",
        "Are there any insights that lead to negative growth? Justify with specific reason."
      ],
      "metadata": {
        "id": "M7G43BXep1ck"
      }
    },
    {
      "cell_type": "markdown",
      "source": [
        "Answer Here"
      ],
      "metadata": {
        "id": "5wwDJXsLp1cl"
      }
    },
    {
      "cell_type": "markdown",
      "source": [
        "#### Chart - 13"
      ],
      "metadata": {
        "id": "Ag9LCva-p1cl"
      }
    },
    {
      "cell_type": "code",
      "source": [
        "# Chart - 13 visualization code"
      ],
      "metadata": {
        "id": "EUfxeq9-p1cl"
      },
      "execution_count": null,
      "outputs": []
    },
    {
      "cell_type": "markdown",
      "source": [
        "##### 1. Why did you pick the specific chart?"
      ],
      "metadata": {
        "id": "E6MkPsBcp1cl"
      }
    },
    {
      "cell_type": "markdown",
      "source": [
        "Answer Here."
      ],
      "metadata": {
        "id": "V22bRsFWp1cl"
      }
    },
    {
      "cell_type": "markdown",
      "source": [
        "##### 2. What is/are the insight(s) found from the chart?"
      ],
      "metadata": {
        "id": "2cELzS2fp1cl"
      }
    },
    {
      "cell_type": "markdown",
      "source": [
        "Answer Here"
      ],
      "metadata": {
        "id": "ozQPc2_Ip1cl"
      }
    },
    {
      "cell_type": "markdown",
      "source": [
        "##### 3. Will the gained insights help creating a positive business impact?\n",
        "Are there any insights that lead to negative growth? Justify with specific reason."
      ],
      "metadata": {
        "id": "3MPXvC8up1cl"
      }
    },
    {
      "cell_type": "markdown",
      "source": [
        "Answer Here"
      ],
      "metadata": {
        "id": "GL8l1tdLp1cl"
      }
    },
    {
      "cell_type": "markdown",
      "source": [
        "#### Chart - 14 - Correlation Heatmap"
      ],
      "metadata": {
        "id": "NC_X3p0fY2L0"
      }
    },
    {
      "cell_type": "code",
      "source": [
        "# Correlation Heatmap visualization code"
      ],
      "metadata": {
        "id": "xyC9zolEZNRQ"
      },
      "execution_count": null,
      "outputs": []
    },
    {
      "cell_type": "markdown",
      "source": [
        "##### 1. Why did you pick the specific chart?"
      ],
      "metadata": {
        "id": "UV0SzAkaZNRQ"
      }
    },
    {
      "cell_type": "markdown",
      "source": [
        "Answer Here."
      ],
      "metadata": {
        "id": "DVPuT8LYZNRQ"
      }
    },
    {
      "cell_type": "markdown",
      "source": [
        "##### 2. What is/are the insight(s) found from the chart?"
      ],
      "metadata": {
        "id": "YPEH6qLeZNRQ"
      }
    },
    {
      "cell_type": "markdown",
      "source": [
        "Answer Here"
      ],
      "metadata": {
        "id": "bfSqtnDqZNRR"
      }
    },
    {
      "cell_type": "markdown",
      "source": [
        "#### Chart - 15 - Pair Plot"
      ],
      "metadata": {
        "id": "q29F0dvdveiT"
      }
    },
    {
      "cell_type": "code",
      "source": [
        "# Pair Plot visualization code"
      ],
      "metadata": {
        "id": "o58-TEIhveiU"
      },
      "execution_count": null,
      "outputs": []
    },
    {
      "cell_type": "markdown",
      "source": [
        "##### 1. Why did you pick the specific chart?"
      ],
      "metadata": {
        "id": "EXh0U9oCveiU"
      }
    },
    {
      "cell_type": "markdown",
      "source": [
        "Answer Here."
      ],
      "metadata": {
        "id": "eMmPjTByveiU"
      }
    },
    {
      "cell_type": "markdown",
      "source": [
        "##### 2. What is/are the insight(s) found from the chart?"
      ],
      "metadata": {
        "id": "22aHeOlLveiV"
      }
    },
    {
      "cell_type": "markdown",
      "source": [
        "Answer Here"
      ],
      "metadata": {
        "id": "uPQ8RGwHveiV"
      }
    },
    {
      "cell_type": "markdown",
      "source": [
        "## **5. Solution to Business Objective**"
      ],
      "metadata": {
        "id": "JcMwzZxoAimU"
      }
    },
    {
      "cell_type": "markdown",
      "source": [
        "#### What do you suggest the client to achieve Business Objective ?\n",
        "Explain Briefly."
      ],
      "metadata": {
        "id": "8G2x9gOozGDZ"
      }
    },
    {
      "cell_type": "markdown",
      "source": [
        "By leveraging insights on popular genres, top-performing talent, and viewer preferences, Amazon Prime can increase user engagement, attract new subscribers, and optimize content investment efficiently."
      ],
      "metadata": {
        "id": "pASKb0qOza21"
      }
    },
    {
      "cell_type": "markdown",
      "source": [
        "# **Conclusion**"
      ],
      "metadata": {
        "id": "gCX9965dhzqZ"
      }
    },
    {
      "cell_type": "markdown",
      "source": [
        "The analysis highlighted not only the most popular genres and top creators but also patterns in content release over the years, duration preferences, and audience engagement trends. It shows how Amazon Prime can identify gaps in content, predict what type of shows or movies are likely to perform well, and make strategic decisions about investments and marketing. Overall, data-driven insights from the Titles and Credits datasets provide a strong foundation for optimizing the platform’s content library and enhancing viewer satisfaction."
      ],
      "metadata": {
        "id": "Fjb1IsQkh3yE"
      }
    },
    {
      "cell_type": "markdown",
      "source": [
        "### ***Hurrah! You have successfully completed your EDA Capstone Project !!!***"
      ],
      "metadata": {
        "id": "gIfDvo9L0UH2"
      }
    }
  ]
}